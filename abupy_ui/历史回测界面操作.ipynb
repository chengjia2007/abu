{
 "cells": [
  {
   "cell_type": "markdown",
   "metadata": {
    "pycharm": {}
   },
   "source": [
    "### 点击上方的运行按钮，启动回测操作界面，如下图所示：\n",
    "\n",
    "![](./run_cell.png)"
   ]
  },
  {
   "cell_type": "code",
   "execution_count": 3,
   "metadata": {
    "pycharm": {
     "is_executing": false
    },
    "scrolled": false
   },
   "outputs": [
    {
     "data": {
      "application/vnd.jupyter.widget-view+json": {
       "model_id": "66277da3770f42ee8cc37e8ec5098578",
       "version_major": 2,
       "version_minor": 0
      },
      "text/plain": [
       "VBox(children=(Tab(children=(VBox(children=(BoundedIntText(value=1000000, description='初始资金:', max=999999999, …"
      ]
     },
     "metadata": {},
     "output_type": "display_data"
    },
    {
     "name": "stderr",
     "output_type": "stream",
     "text": [
      "提示\n",
      "没有添加任何一个买入策略！\n",
      "(1410, 'RegisterClass', '类已存在。')\n",
      "Traceback (most recent call last):\n",
      "  File \"D:\\Quantitative\\abu\\abupy\\UtilBu\\ABuDTUtil.py\", line 164, in wrapper\n",
      "    return func(*args, **kwargs)\n",
      "  File \"D:\\Quantitative\\abu\\abupy\\UtilBu\\ABuOsUtil.py\", line 33, in show_msg\n",
      "    do_show_msg(title, msg)\n",
      "  File \"D:\\Quantitative\\abu\\abupy\\UtilBu\\ABuWinUtil.py\", line 39, in show_msg\n",
      "    MainWindow(to_native_str(title), to_native_str(msg))\n",
      "  File \"D:\\Quantitative\\abu\\abupy\\UtilBu\\ABuWinUtil.py\", line 181, in __init__\n",
      "    class_atom = RegisterClass(wc)\n",
      "pywintypes.error: (1410, 'RegisterClass', '类已存在。')\n"
     ]
    }
   ],
   "source": [
    "%matplotlib inline\n",
    "import widget_loop_back\n",
    "widget_loop_back.show_ui()"
   ]
  },
  {
   "cell_type": "markdown",
   "metadata": {
    "pycharm": {}
   },
   "source": [
    "[abu量化系统github地址](https://github.com/bbfamily/abu) (您的star是我的动力！)\n",
    "\n",
    "[更多阿布量化量化技术文章](http://www.abuquant.com/article)\n",
    "\n",
    "更多关于量化交易相关请阅读[《量化交易之路》](http://www.abuquant.com/books/quantify-trading-road.html)\n",
    "\n",
    "更多关于量化交易与机器学习相关请阅读[《机器学习之路》](http://www.abuquant.com/books/machine-learning-road.html)\n",
    "\n",
    "更多关于abu量化系统请关注微信公众号: abu_quant\n",
    "\n",
    "![](../abupy_lecture/image/qrcode.jpg)"
   ]
  },
  {
   "cell_type": "code",
   "execution_count": null,
   "metadata": {},
   "outputs": [],
   "source": []
  }
 ],
 "metadata": {
  "kernelspec": {
   "display_name": "Python 3",
   "language": "python",
   "name": "python3"
  },
  "language_info": {
   "codemirror_mode": {
    "name": "ipython",
    "version": 3
   },
   "file_extension": ".py",
   "mimetype": "text/x-python",
   "name": "python",
   "nbconvert_exporter": "python",
   "pygments_lexer": "ipython3",
   "version": "3.7.2"
  }
 },
 "nbformat": 4,
 "nbformat_minor": 2
}
